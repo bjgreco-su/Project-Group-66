{
 "cells": [
  {
   "cell_type": "markdown",
   "metadata": {},
   "source": [
    "### What's to Wear???\n",
    "\n",
    "The brand new app dedicated to the perfect outfit while incoropating the ridiculous Syracuse weather."
   ]
  },
  {
   "cell_type": "code",
   "execution_count": 3,
   "metadata": {},
   "outputs": [
    {
     "ename": "SyntaxError",
     "evalue": "invalid syntax (<ipython-input-3-5342dc969d19>, line 4)",
     "output_type": "error",
     "traceback": [
      "\u001b[1;36m  File \u001b[1;32m\"<ipython-input-3-5342dc969d19>\"\u001b[1;36m, line \u001b[1;32m4\u001b[0m\n\u001b[1;33m    python -m pip install --upgrade pip\u001b[0m\n\u001b[1;37m                ^\u001b[0m\n\u001b[1;31mSyntaxError\u001b[0m\u001b[1;31m:\u001b[0m invalid syntax\n"
     ]
    }
   ],
   "source": [
    "!pip install -q requests\n",
    "import requests\n",
    "import json \n",
    "python -m pip install --upgrade pip\n",
    "print(\"Welcome to What's to Wear???\")\n",
    "##Acquring the location     \n",
    "count = 1\n",
    "while (count == 0):\n",
    "    city = input(\"Enter your city: \")\n",
    "    state = input(\"Enter your state abbreviation: \")\n",
    "    state = state.upper()\n",
    "    print('Is \"',city,',',state,'\" correct?')\n",
    "    YesNo = input(\"Enter Yes or No: \")\n",
    "    if YesNo == \"Yes\":\n",
    "        count = 1\n",
    "    else:\n",
    "        print('Your city or state was wrong, please enter again.')\n",
    "##  \n",
    "## API key\n",
    "##Weather API\n",
    "url = 'https://openweathermap.org/api'\n",
    "response = requests.get(url)\n",
    "response.ok\n",
    "response.text\n"
   ]
  },
  {
   "cell_type": "code",
   "execution_count": null,
   "metadata": {},
   "outputs": [],
   "source": []
  }
 ],
 "metadata": {
  "anaconda-cloud": {},
  "kernelspec": {
   "display_name": "Python 3",
   "language": "python",
   "name": "python3"
  },
  "language_info": {
   "codemirror_mode": {
    "name": "ipython",
    "version": 3
   },
   "file_extension": ".py",
   "mimetype": "text/x-python",
   "name": "python",
   "nbconvert_exporter": "python",
   "pygments_lexer": "ipython3",
   "version": "3.6.6"
  }
 },
 "nbformat": 4,
 "nbformat_minor": 1
}
