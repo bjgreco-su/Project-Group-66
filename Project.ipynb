{
 "cells": [
  {
   "cell_type": "markdown",
   "metadata": {},
   "source": [
    "### What's to Wear???\n",
    "\n",
    "The brand new app dedicated to the perfect outfit while incoropating the ridiculous Syracuse weather."
   ]
  },
  {
   "cell_type": "code",
   "execution_count": 36,
   "metadata": {},
   "outputs": [
    {
     "name": "stdout",
     "output_type": "stream",
     "text": [
      "Welcome to What's to Wear???\n",
      "https://api.openweathermap.org/data/2.5/forecast?q=Neptune,3166-2:US-NJ&APPID=fd3b3289f666f1983e508bf5131f1c77\n"
     ]
    }
   ],
   "source": [
    "!pip install -q requests\n",
    "import requests\n",
    "import json \n",
    "api_token = 'fd3b3289f666f1983e508bf5131f1c77'\n",
    "headers = {'Content-Type': 'application/json',\n",
    "           'Authorization': 'Bearer {0}'.format(api_token)}\n",
    "print(\"Welcome to What's to Wear???\")\n",
    "##Acquring the location     \n",
    "count = 1\n",
    "while (count == 0):\n",
    "    city = input(\"Enter your city: \")\n",
    "    state = input(\"Enter your state abbreviation: \")\n",
    "    state = state.upper()\n",
    "    print('Is \"',city,',',state,'\" correct?')\n",
    "    YesNo = input(\"Enter Yes or No: \")\n",
    "    if YesNo == \"Yes\":\n",
    "        count = 1\n",
    "    else:\n",
    "        print('Your city or state was wrong, please enter again.')\n",
    "##  \n",
    "## API key\n",
    "##Weather API\n",
    "city = 'Neptune'\n",
    "state = 'NJ'\n",
    "url = ('https://api.openweathermap.org/data/2.5/forecast?q=%s,3166-2:US-%s&APPID=fd3b3289f666f1983e508bf5131f1c77' % (city,state))\n",
    "print(url)\n"
   ]
  },
  {
   "cell_type": "code",
   "execution_count": null,
   "metadata": {},
   "outputs": [],
   "source": []
  }
 ],
 "metadata": {
  "anaconda-cloud": {},
  "kernelspec": {
   "display_name": "Python 3",
   "language": "python",
   "name": "python3"
  },
  "language_info": {
   "codemirror_mode": {
    "name": "ipython",
    "version": 3
   },
   "file_extension": ".py",
   "mimetype": "text/x-python",
   "name": "python",
   "nbconvert_exporter": "python",
   "pygments_lexer": "ipython3",
   "version": "3.6.6"
  }
 },
 "nbformat": 4,
 "nbformat_minor": 1
}
